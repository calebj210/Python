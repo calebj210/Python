{
 "cells": [
  {
   "cell_type": "markdown",
   "id": "f3ee8cca-26bd-44eb-b7a8-190d93880ba4",
   "metadata": {
    "tags": []
   },
   "source": [
    "# Async 19"
   ]
  },
  {
   "cell_type": "code",
   "execution_count": null,
   "id": "12b117c3-1a51-4bf5-8416-6e8a10321b53",
   "metadata": {},
   "outputs": [],
   "source": [
    "import sympy as sym\n",
    "sym.init_printing()"
   ]
  },
  {
   "cell_type": "code",
   "execution_count": 11,
   "id": "4982db38-b909-4c61-a315-4741ad11a7a6",
   "metadata": {
    "tags": []
   },
   "outputs": [],
   "source": [
    "ω = sym.symbols('ω')\n",
    "m, k = sym.symbols('m, k', real=True)\n",
    "α, g, grad_T0 = sym.symbols('α, g, ∇T0', real=True)\n",
    "N = sym.symbols('N', real=True)\n",
    "i = sym.I\n",
    "\n",
    "A = sym.Matrix([[ i*ω,      0, -α*g, -i*k],\n",
    "                [   0,    i*ω,    0, -i*m],\n",
    "                [grad_T0,   0,  i*ω,    0],\n",
    "                [-i*k,   -i*m,    0,    0]])\n",
    "\n",
    "A"
   ]
  },
  {
   "cell_type": "markdown",
   "id": "f164740d-4d50-4500-aff4-ad961e30ee9d",
   "metadata": {},
   "source": [
    "## Problem 1\n",
    "Verify that $ |A| $ yields the expected relationship,\n",
    "$$\n",
    "    \\omega^2 = \\frac{m^2}{k^2 + m^2} N^2.\n",
    "$$\n",
    "\n",
    "To solve for $ \\omega^2 $ we simply have"
   ]
  },
  {
   "cell_type": "code",
   "execution_count": 17,
   "id": "966d9242-fd3a-4a45-9063-5af3e642518d",
   "metadata": {
    "tags": []
   },
   "outputs": [
    {
     "data": {
      "image/png": "[encoded data removed]",
      "text/latex": [
       "$\\displaystyle \\left\\{\\frac{N^{2} m^{2}}{k^{2} + m^{2}}\\right\\}$"
      ],
      "text/plain": [
       "⎧  2  2 ⎫\n",
       "⎪ N ⋅m  ⎪\n",
       "⎨───────⎬\n",
       "⎪ 2    2⎪\n",
       "⎩k  + m ⎭"
      ]
     },
     "execution_count": 17,
     "metadata": {},
     "output_type": "execute_result"
    }
   ],
   "source": [
    "B = A.subs(g, N**2 / (α * grad_T0))\n",
    "sym.solveset(B.det(), ω**2)"
   ]
  },
  {
   "cell_type": "markdown",
   "id": "199f8f66-f13b-4db0-bae5-a2a88464b877",
   "metadata": {},
   "source": [
    "which is the expected value for $ \\omega^2 $."
   ]
  },
  {
   "cell_type": "markdown",
   "id": "8521b88f-f849-4ea5-b115-e86a02d83ff3",
   "metadata": {},
   "source": [
    "## Problem 2\n",
    "In a set of waves, what propogates at the phase velocity, and what propogates at the group velocity?\n",
    "\n",
    "In a set of waves, the peaks of the sum of the waves travel at the phase velocity while the overall envelope of the wave packet moves at the group velocity. In our case, the dispersion relation given above is nonlinear in $ k $ meaning our group velocities will change depending on the wave number $ k $."
   ]
  }
 ],
 "metadata": {
  "kernelspec": {
   "display_name": "Python 3 (ipykernel)",
   "language": "python",
   "name": "python3"
  },
  "language_info": {
   "codemirror_mode": {
    "name": "ipython",
    "version": 3
   },
   "file_extension": ".py",
   "mimetype": "text/x-python",
   "name": "python",
   "nbconvert_exporter": "python",
   "pygments_lexer": "ipython3",
   "version": "3.11.0"
  }
 },
 "nbformat": 4,
 "nbformat_minor": 5
}
