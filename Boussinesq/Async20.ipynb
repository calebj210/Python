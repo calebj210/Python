{
 "cells": [
  {
   "cell_type": "markdown",
   "id": "f3ee8cca-26bd-44eb-b7a8-190d93880ba4",
   "metadata": {
    "tags": []
   },
   "source": [
    "# Async 20"
   ]
  },
  {
   "cell_type": "code",
   "execution_count": 71,
   "id": "12b117c3-1a51-4bf5-8416-6e8a10321b53",
   "metadata": {},
   "outputs": [],
   "source": [
    "import sympy as sym\n",
    "from sympy.vector import CoordSys3D\n",
    "sym.init_printing()"
   ]
  },
  {
   "cell_type": "code",
   "execution_count": 72,
   "id": "4982db38-b909-4c61-a315-4741ad11a7a6",
   "metadata": {
    "tags": []
   },
   "outputs": [],
   "source": [
    "ω = sym.symbols('ω')\n",
    "m, k = sym.symbols('m, k', real=True)\n",
    "α, g, grad_T0 = sym.symbols('α, g, ∇T0', real=True)\n",
    "N = sym.symbols('N', real=True)\n",
    "i = sym.I\n",
    "Z = CoordSys3D('')\n",
    "k⃗ = m * Z.i + k * Z.k\n",
    "k̂ = k⃗ / sym.sqrt(k⃗.dot(k⃗))\n",
    "\n",
    "A = sym.Matrix([[ i*ω,      0, -α*g, -i*k],\n",
    "                [   0,    i*ω,    0, -i*m],\n",
    "                [grad_T0,   0,  i*ω,    0],\n",
    "                [-i*k,   -i*m,    0,    0]])\n",
    "\n",
    "B = A.subs(g, N**2 / (α * grad_T0))\n",
    "ωp, ωn = sym.solveset(B.det(), ω)"
   ]
  },
  {
   "cell_type": "markdown",
   "id": "f164740d-4d50-4500-aff4-ad961e30ee9d",
   "metadata": {
    "tags": []
   },
   "source": [
    "## Problem 3\n",
    "Below, we compute the group and phase velocities for our two branches of $ \\omega $."
   ]
  },
  {
   "cell_type": "code",
   "execution_count": 73,
   "id": "43a2cde2-d4f7-43e6-9302-d6908136b496",
   "metadata": {
    "tags": []
   },
   "outputs": [
    {
     "data": {
      "image/png": "[encoded data removed]",
      "text/latex": [
       "$\\displaystyle \\left(\\frac{N k^{2}}{\\left(k^{2} + m^{2}\\right)^{\\frac{3}{2}}}\\right)\\mathbf{\\hat{i}_{}} + \\left(- \\frac{N k m}{\\left(k^{2} + m^{2}\\right)^{\\frac{3}{2}}}\\right)\\mathbf{\\hat{k}_{}}$"
      ],
      "text/plain": [
       "⎛       2    ⎞      ⎛  -N⋅k⋅m    ⎞   \n",
       "⎜    N⋅k     ⎟ i_ + ⎜────────────⎟ k_\n",
       "⎜────────────⎟      ⎜         3/2⎟   \n",
       "⎜         3/2⎟      ⎜⎛ 2    2⎞   ⎟   \n",
       "⎜⎛ 2    2⎞   ⎟      ⎝⎝k  + m ⎠   ⎠   \n",
       "⎝⎝k  + m ⎠   ⎠                       "
      ]
     },
     "execution_count": 73,
     "metadata": {},
     "output_type": "execute_result"
    }
   ],
   "source": [
    "# Positive branch ω+ group velocity\n",
    "vg = sym.simplify(ωp.diff(m) * Z.i + ωp.diff(k) * Z.k)\n",
    "vg"
   ]
  },
  {
   "cell_type": "code",
   "execution_count": 74,
   "id": "014f5f4c-a2aa-47c5-a2c8-b197ddf19ddb",
   "metadata": {
    "tags": []
   },
   "outputs": [
    {
     "data": {
      "image/png": "[encoded data removed]",
      "text/latex": [
       "$\\displaystyle \\left(\\frac{N m^{2}}{\\left(k^{2} + m^{2}\\right)^{\\frac{3}{2}}}\\right)\\mathbf{\\hat{i}_{}} + \\left(\\frac{N k m}{\\left(k^{2} + m^{2}\\right)^{\\frac{3}{2}}}\\right)\\mathbf{\\hat{k}_{}}$"
      ],
      "text/plain": [
       "⎛       2    ⎞      ⎛   N⋅k⋅m    ⎞   \n",
       "⎜    N⋅m     ⎟ i_ + ⎜────────────⎟ k_\n",
       "⎜────────────⎟      ⎜         3/2⎟   \n",
       "⎜         3/2⎟      ⎜⎛ 2    2⎞   ⎟   \n",
       "⎜⎛ 2    2⎞   ⎟      ⎝⎝k  + m ⎠   ⎠   \n",
       "⎝⎝k  + m ⎠   ⎠                       "
      ]
     },
     "execution_count": 74,
     "metadata": {},
     "output_type": "execute_result"
    }
   ],
   "source": [
    "# Positive branch ω+ phase velocity\n",
    "vp = ωp * k⃗ / (k⃗.dot(k⃗))\n",
    "vp"
   ]
  },
  {
   "cell_type": "code",
   "execution_count": 75,
   "id": "eec958d1-d616-4b8e-94ab-6bb856ce9381",
   "metadata": {
    "tags": []
   },
   "outputs": [
    {
     "data": {
      "image/png": "[encoded data removed]",
      "text/latex": [
       "$\\displaystyle \\left(- \\frac{N k^{2}}{\\left(k^{2} + m^{2}\\right)^{\\frac{3}{2}}}\\right)\\mathbf{\\hat{i}_{}} + \\left(\\frac{N k m}{\\left(k^{2} + m^{2}\\right)^{\\frac{3}{2}}}\\right)\\mathbf{\\hat{k}_{}}$"
      ],
      "text/plain": [
       "⎛       2    ⎞      ⎛   N⋅k⋅m    ⎞   \n",
       "⎜   -N⋅k     ⎟ i_ + ⎜────────────⎟ k_\n",
       "⎜────────────⎟      ⎜         3/2⎟   \n",
       "⎜         3/2⎟      ⎜⎛ 2    2⎞   ⎟   \n",
       "⎜⎛ 2    2⎞   ⎟      ⎝⎝k  + m ⎠   ⎠   \n",
       "⎝⎝k  + m ⎠   ⎠                       "
      ]
     },
     "execution_count": 75,
     "metadata": {},
     "output_type": "execute_result"
    }
   ],
   "source": [
    "# Negative branch ω- group velocity\n",
    "vg = sym.simplify(ωn.diff(m) * Z.i + ωn.diff(k) * Z.k)\n",
    "vg"
   ]
  },
  {
   "cell_type": "code",
   "execution_count": 76,
   "id": "523b5249-c31c-4d8e-953f-223aa9b4e911",
   "metadata": {
    "tags": []
   },
   "outputs": [
    {
     "data": {
      "image/png": "[encoded data removed]",
      "text/latex": [
       "$\\displaystyle \\left(- \\frac{N m^{2}}{\\left(k^{2} + m^{2}\\right)^{\\frac{3}{2}}}\\right)\\mathbf{\\hat{i}_{}} + \\left(- \\frac{N k m}{\\left(k^{2} + m^{2}\\right)^{\\frac{3}{2}}}\\right)\\mathbf{\\hat{k}_{}}$"
      ],
      "text/plain": [
       "⎛       2    ⎞      ⎛  -N⋅k⋅m    ⎞   \n",
       "⎜   -N⋅m     ⎟ i_ + ⎜────────────⎟ k_\n",
       "⎜────────────⎟      ⎜         3/2⎟   \n",
       "⎜         3/2⎟      ⎜⎛ 2    2⎞   ⎟   \n",
       "⎜⎛ 2    2⎞   ⎟      ⎝⎝k  + m ⎠   ⎠   \n",
       "⎝⎝k  + m ⎠   ⎠                       "
      ]
     },
     "execution_count": 76,
     "metadata": {},
     "output_type": "execute_result"
    }
   ],
   "source": [
    "# Negative branch ω- phase velocity\n",
    "vp = ωn * k⃗ / (k⃗.dot(k⃗))\n",
    "vp"
   ]
  },
  {
   "cell_type": "markdown",
   "id": "8521b88f-f849-4ea5-b115-e86a02d83ff3",
   "metadata": {},
   "source": [
    "## Problem 4\n",
    "To verify that\n",
    "$$\n",
    "    \\mathbf{k} \\cdot \\mathbf{v}_g = 0\n",
    "$$\n",
    "we have"
   ]
  },
  {
   "cell_type": "code",
   "execution_count": 77,
   "id": "3ed34ec2-f012-472b-b68f-4d0cd732e912",
   "metadata": {
    "tags": []
   },
   "outputs": [
    {
     "data": {
      "image/png": "[encoded data removed]",
      "text/latex": [
       "$\\displaystyle 0$"
      ],
      "text/plain": [
       "0"
      ]
     },
     "execution_count": 77,
     "metadata": {},
     "output_type": "execute_result"
    }
   ],
   "source": [
    "k⃗.dot(vg)"
   ]
  },
  {
   "cell_type": "code",
   "execution_count": 78,
   "id": "ae3f945e-c936-494b-8487-ab7eadb8a632",
   "metadata": {
    "tags": []
   },
   "outputs": [
    {
     "data": {
      "image/png": "[encoded data removed]",
      "text/latex": [
       "$\\displaystyle 0$"
      ],
      "text/plain": [
       "0"
      ]
     },
     "execution_count": 78,
     "metadata": {},
     "output_type": "execute_result"
    }
   ],
   "source": [
    "vp.dot(vg)"
   ]
  },
  {
   "cell_type": "markdown",
   "id": "0814a671-31e5-44f1-bdc1-f303991c45b5",
   "metadata": {},
   "source": [
    "## Problem 5\n",
    "From the video, we can see a few interesting things. The large diamonds that originate from the center appear to be stationary. In this case the group velocity can be identified with the velocity of the large diamonds. Hence the group velocity will be zero! Looking a little closer, inside of each diamond, you can see some finer wave structures that appears to move through the diamonds. The velocity of the peaks of the finer wave structures will correspond to the phase velocities in our system."
   ]
  }
 ],
 "metadata": {
  "kernelspec": {
   "display_name": "Python 3 (ipykernel)",
   "language": "python",
   "name": "python3"
  },
  "language_info": {
   "codemirror_mode": {
    "name": "ipython",
    "version": 3
   },
   "file_extension": ".py",
   "mimetype": "text/x-python",
   "name": "python",
   "nbconvert_exporter": "python",
   "pygments_lexer": "ipython3",
   "version": "3.11.0"
  }
 },
 "nbformat": 4,
 "nbformat_minor": 5
}
