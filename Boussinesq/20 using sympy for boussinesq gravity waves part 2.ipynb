{
 "cells": [
  {
   "cell_type": "markdown",
   "metadata": {},
   "source": [
    "Asynchronous Material 20 (part 2)\n",
    "================================\n",
    "\n",
    "Today we learn a little bit more about Boussinesq gravity waves, building on the work you did in Asynchronous Material 19.  Everything in this notebook is the same, down until the participation section.  So feel free to hop straight to that if you've already done AS19.\n",
    "\n",
    "# Optional: Lecture\n",
    "\n",
    "Here are some videos reviewing concepts on polynomial approximation, determinant methods, and promoting a system to higher order.  If you didn't watch these in AS19, please do so now.\n",
    "\n",
    "1. [Calculus to algebra for linear PDEs via polynomial approximation (heat equation; 15 min)](https://youtu.be/QM2e9gjmBAM)\n",
    "\n",
    "2. [Solving linear waves in constant coefficient systems using the determinant method (sound waves; 15 min)](https://youtu.be/RPsWsPasWg8)\n",
    "\n",
    "3. [Solving linear waves by going to higher order (9 min)](https://youtu.be/SX-VlWA8A4E)\n",
    "\n",
    "\n",
    "## Basic ideas of the notebook (repeat from AS17)\n",
    "This notebook introduces you to using `sympy` as tool for solving linear systems.  Here, we construct a linear system for Boussinesq gravity waves and then use the determinant method to solve for the wave dispersion relationship.\n",
    "\n",
    "To install sympy, run this command:\n",
    "\n",
    "`pip install sympy` \n",
    "\n",
    "at your command prompt."
   ]
  },
  {
   "cell_type": "raw",
   "metadata": {},
   "source": [
    "\\renewcommand{\\vec}{\\boldsymbol}\n",
    "\\newcommand{\\del}{\\vec{\\nabla}}\n",
    "\\newcommand{\\pomega}{\\varpi}\n",
    "\\newpage"
   ]
  },
  {
   "cell_type": "markdown",
   "metadata": {},
   "source": [
    "Linear waves and dispersion relationships with `Sympy`\n",
    "==========\n",
    "\n",
    "$\\renewcommand{\\vec}{\\boldsymbol}$\n",
    "$\\renewcommand{\\del}{\\vec{\\nabla}}$\n",
    "$\\renewcommand{\\pomega}{\\varpi}$\n",
    "\n",
    "\n",
    "The full ideal (no diffusion) Boussinesq equations are:\n",
    "  \\begin{align}\n",
    "    \\del\\cdot\\vec{u} &= 0 \\label{eq: continuity}\\\\\n",
    "    \\frac{\\partial \\vec{u}}{\\partial t} + \\del \\pomega + \\alpha \\vec{g} T &= -\\vec{u}\\cdot\\del\\vec{u}  \\label{eq: momentum}\\\\\n",
    "    \\frac{\\partial T}{\\partial t} + \\vec{u}\\cdot\\del T_0  &= -\\vec{u}\\cdot\\del T  \\label{eq: temperature}\n",
    "  \\end{align}\n",
    "where $\\del T_0$ is the background temperature gradient, $T$ is the buoyancy variable, $\\alpha$ is the thermal expansion coefficient with units $1/T_0$, and $\\vec{g}=-g\\vec{\\hat{z}}$ is gravity.  These represent incompressible dynamics with bounancy added via the $\\alpha \\vec{g} T$ term.\n",
    "\n",
    "Our first step is to linearize.  The linear system we are solving is:\n",
    "\\begin{align}\n",
    "\\frac{\\partial}{\\partial t} \\vec{u} + \\vec{\\nabla} \\varpi - \\alpha g T\\vec{\\hat{z}} &= 0 \\\\\n",
    "\\frac{\\partial}{\\partial t} T + \\vec{u}\\cdot\\vec{\\nabla} T_0 &= 0 \\\\\n",
    "\\vec{\\nabla}\\cdot\\vec{u} &= 0\n",
    "\\end{align}\n",
    "\n",
    "To solve gravity waves, we will need to take a 2-D decomposition, $\\vec{u} = u\\vec{\\hat{x}}+w\\vec{\\hat{z}}$ rather than the 1-D decomposition we used for acoustic waves.  The linearized, component-wise version of these is:\n",
    "  \\begin{align}\n",
    "    \\partial_x u + \\partial_z w &= 0 \\label{eq: linear continuity}\\\\\n",
    "    \\partial_t w + \\partial_z \\pomega - \\alpha g T & = 0\\\\\n",
    "    \\partial_t u + \\partial_x \\pomega  & = 0\\\\\n",
    "    \\partial_t T + w \\del T_0  &= 0 \\label{eq: linear temperature}\n",
    "  \\end{align}\n",
    "where $\\partial_t q \\equiv \\partial q/\\partial t$ and likewise for spatial derivatives.\n",
    "\n",
    "Next assume a wavelike set of perturbations in time and space:\n",
    "\\begin{align}\n",
    "    w,u,T,\\varpi \\propto e^{i \\omega t}e^{-i m x - i k z}\n",
    "\\end{align}\n",
    "and apply these to turn the calculus into algebra for fluctuating quantities $q$:\n",
    "\\begin{align}\n",
    "    \\frac{\\partial}{\\partial t} q \\rightarrow i \\omega q \\qquad \\text{and} \\qquad \n",
    "    \\vec{\\nabla} q \\rightarrow (-i m \\vec{\\hat{x}} -i k \\vec{\\hat{z}}) q \n",
    "\\end{align}\n",
    "\n",
    "This yields the system $A \\vec{x} = 0$:\n",
    "\\begin{align}\n",
    "\\begin{bmatrix}\n",
    "i \\omega & 0 & -\\alpha g & -i k \\\\\n",
    "0 & i \\omega & 0 &  0 \\\\\n",
    "\\nabla T_0 & 0 & i \\omega & 0\\\\\n",
    "-i k & -i m & 0 & 0\n",
    "\\end{bmatrix}\n",
    "\\begin{bmatrix}\n",
    "w \\\\\n",
    "u \\\\\n",
    "T \\\\\n",
    "\\varpi\n",
    "\\end{bmatrix} = 0\n",
    "\\end{align}\n",
    "\n",
    "with dispersion relationship:\n",
    "\\begin{align}\n",
    "\\omega^2 = \\frac{m^{2}}{k^{2} + m^{2}} N^{2}\n",
    "\\end{align}\n",
    "where $N^{2} = \\alpha g \\nabla T_0$.\n",
    "\n",
    "The code below uses `sympy` to solve for this dispersion relationship given the matrix A."
   ]
  },
  {
   "cell_type": "code",
   "execution_count": null,
   "metadata": {},
   "outputs": [],
   "source": [
    "import sympy as sym\n",
    "sym.init_printing()"
   ]
  },
  {
   "cell_type": "code",
   "execution_count": null,
   "metadata": {},
   "outputs": [],
   "source": [
    "ω = sym.symbols('ω')\n",
    "m, k = sym.symbols('m, k', real=True)\n",
    "α, g, grad_T0 = sym.symbols('α, g, ∇T0', real=True)\n",
    "N = sym.symbols('N', real=True)\n",
    "i = sym.I"
   ]
  },
  {
   "cell_type": "code",
   "execution_count": null,
   "metadata": {},
   "outputs": [],
   "source": [
    "A = sym.Matrix([[ i*ω,      0, -α*g, -i*k],\n",
    "                [   0,    i*ω,    0, -i*m],\n",
    "                [grad_T0,   0,  i*ω,    0],\n",
    "                [-i*k,   -i*m,    0,    0]])"
   ]
  },
  {
   "cell_type": "code",
   "execution_count": null,
   "metadata": {},
   "outputs": [],
   "source": [
    "A"
   ]
  },
  {
   "cell_type": "code",
   "execution_count": null,
   "metadata": {},
   "outputs": [],
   "source": [
    "A.det()"
   ]
  },
  {
   "cell_type": "markdown",
   "metadata": {},
   "source": [
    "# Participation\n",
    "\n",
    "Here we continue our exercises on Boussinesq internal gravity waves.  I expect you to use this notebook and `sympy` to calculate the determinants, derivatives, etc. required below.  You could do them by hand, or using Mathematica or other tools, but it's useful to learn how to use this machinery. \n",
    "\n",
    "$\\renewcommand{\\vec}{\\boldsymbol}$\n",
    "$\\renewcommand{\\del}{\\vec{\\nabla}}$\n",
    "\n",
    "3. Compute the group $\\vec{v_g}$ and phase $\\vec{v_p}$ velocity of these Boussinesq gravity waves.  Recall that:\n",
    "\\begin{align}\n",
    "    \\vec{v_g} = \\vec{\\nabla_k} \\omega \\\\\n",
    "    \\vec{v_{p}} = \\omega \\frac{\\vec{k}}{\\vec{k}\\cdot\\vec{k}}\n",
    "\\end{align}\n",
    "with\n",
    "\\begin{align}\n",
    "    \\vec{\\nabla_k} = \\frac{\\partial}{\\partial m}\\vec{\\hat{x}} + \\frac{\\partial}{\\partial k}\\vec{\\hat{z}} \\\\ \n",
    "    \\vec{k} = m \\vec{\\hat{x}} + k \\vec{\\hat{z}}.\n",
    "\\end{align}\n",
    "The form of the phase velocity here bears brief discussion.  The phase velocity goes at the speed $v_{p} = \\omega/k$ in the $\\vec{\\hat{k}}$ direction.  How do we obtain that?  Well, $\\vec{\\hat{k}}$ is given by:\n",
    "\\begin{equation}\n",
    "    \\vec{\\hat{k}} = \\frac{\\vec{k}}{|k|}\n",
    "\\end{equation}\n",
    "and\n",
    "\\begin{equation}\n",
    "    \\vec{v_{p}} = \\frac{\\omega}{|k|} \\frac{\\vec{k}}{|k|} = \\omega \\frac{\\vec{k}}{\\vec{k}\\cdot\\vec{k}}\n",
    "\\end{equation}\n",
    "\n",
    "\n",
    "Verify that for the two branches of the $\\omega$ solution these are phase velocities of:\n",
    "\\begin{align}\n",
    "\\omega_{+} = \\frac{m \\left|{N}\\right|}{\\sqrt{k^{2} + m^{2}}}\\rightarrow &\\vec{v_p} =\n",
    "\\frac{m^{2} \\left|{N}\\right|}{\\left(k^{2} + m^{2}\\right)^{\\frac{3}{2}}}\\vec{\\hat{x}} +\\frac{k m \\left|{N}\\right|}{\\left(k^{2} + m^{2}\\right)^{\\frac{3}{2}}}\\vec{\\hat{z}} \\\\\n",
    "\\omega_{-} = - \\frac{m \\left|{N}\\right|}{\\sqrt{k^{2} + m^{2}}}\\rightarrow &\\vec{v_p} =\n",
    "- \\frac{m^{2} \\left|{N}\\right|}{\\left(k^{2} + m^{2}\\right)^{\\frac{3}{2}}}\\vec{\\hat{x}} - \\frac{k m \\left|{N}\\right|}{\\left(k^{2} + m^{2}\\right)^{\\frac{3}{2}}}\\vec{\\hat{z}} \\\\\n",
    "\\end{align}\n",
    "and group velocities\n",
    "\\begin{align}\n",
    "\\omega_{+} = \\frac{m \\left|{N}\\right|}{\\sqrt{k^{2} + m^{2}}}\\rightarrow &\\vec{v_g} =\n",
    "\\frac{k^{2} \\left|{N}\\right|}{\\left(k^{2} + m^{2}\\right)^{\\frac{3}{2}}}\\vec{\\hat{x}} - \\frac{k m \\left|{N}\\right|}{\\left(k^{2} + m^{2}\\right)^{\\frac{3}{2}}}\\vec{\\hat{z}} \\\\\n",
    "\\omega_{-} = - \\frac{m \\left|{N}\\right|}{\\sqrt{k^{2} + m^{2}}}\\rightarrow &\\vec{v_g} =\n",
    "- \\frac{k^{2} \\left|{N}\\right|}{\\left(k^{2} + m^{2}\\right)^{\\frac{3}{2}}}\\vec{\\hat{x}} +\\frac{k m \\left|{N}\\right|}{\\left(k^{2} + m^{2}\\right)^{\\frac{3}{2}}}\\vec{\\hat{z}} \\\\\n",
    "\\end{align}\n",
    "for the two branches of our system.\n",
    "\n",
    "4. Verify the surprising fact:\n",
    "\\begin{align}\n",
    "    \\vec{k}\\cdot\\vec{v_g} = 0\n",
    "\\end{align}\n",
    "or that the group velocity is perpendicular to the phase velocity (which goes in the $\\vec{k}$ direction).  You can alternatively verify that $\\vec{v_{p}}\\cdot\\vec{v_{g}}=0$.\n",
    "\n",
    "5. Watch this neat [video of Boussinesq internal gravity waves](https://www.youtube.com/watch?v=BDQD_gM3M24) from the Department of Atmospheric Sciences at University of Washington.  This movie exploits the [Schlieren effect](https://en.wikipedia.org/wiki/Schlieren), where differences in density in the waves lead to shadows of light passing through the tank.  Think about concepts of group and phase velocities while you're watching.  Write a short paragraph about what you see in this movie.\n",
    "            \n",
    "**To Turn in**:\n",
    "Send Ben your answers to 3-5 via Canvas, uploading to Asynchronous Exercise 20.  You can do that in this ipynb and upload as an ipynb.  You can also export to PDF if you prefer, or upload as html.  Please send by evening, Friday April 14."
   ]
  },
  {
   "cell_type": "code",
   "execution_count": null,
   "metadata": {},
   "outputs": [],
   "source": []
  }
 ],
 "metadata": {
  "kernelspec": {
   "display_name": "Python 3 (ipykernel)",
   "language": "python",
   "name": "python3"
  },
  "language_info": {
   "codemirror_mode": {
    "name": "ipython",
    "version": 3
   },
   "file_extension": ".py",
   "mimetype": "text/x-python",
   "name": "python",
   "nbconvert_exporter": "python",
   "pygments_lexer": "ipython3",
   "version": "3.11.0"
  }
 },
 "nbformat": 4,
 "nbformat_minor": 4
}
